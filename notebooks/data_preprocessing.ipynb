{
 "cells": [
  {
   "cell_type": "markdown",
   "metadata": {},
   "source": [
    "# Data Preprocessing for Sentiment Analysis\n",
    "\n",
    "In this notebook, we will focus on cleaning and preprocessing the text data collected from social media. This includes tasks such as tokenization, removing stop words, and feature engineering."
   ]
  },
  {
   "cell_type": "code",
   "execution_count": 9,
   "metadata": {},
   "outputs": [
    {
     "name": "stderr",
     "output_type": "stream",
     "text": [
      "[nltk_data] Downloading package stopwords to\n",
      "[nltk_data]     C:\\Users\\ankit\\AppData\\Roaming\\nltk_data...\n",
      "[nltk_data]   Package stopwords is already up-to-date!\n"
     ]
    },
    {
     "data": {
      "text/html": [
       "<div>\n",
       "<style scoped>\n",
       "    .dataframe tbody tr th:only-of-type {\n",
       "        vertical-align: middle;\n",
       "    }\n",
       "\n",
       "    .dataframe tbody tr th {\n",
       "        vertical-align: top;\n",
       "    }\n",
       "\n",
       "    .dataframe thead th {\n",
       "        text-align: right;\n",
       "    }\n",
       "</style>\n",
       "<table border=\"1\" class=\"dataframe\">\n",
       "  <thead>\n",
       "    <tr style=\"text-align: right;\">\n",
       "      <th></th>\n",
       "      <th>title</th>\n",
       "      <th>author</th>\n",
       "      <th>link</th>\n",
       "      <th>published</th>\n",
       "      <th>content</th>\n",
       "      <th>cleaned_text</th>\n",
       "    </tr>\n",
       "  </thead>\n",
       "  <tbody>\n",
       "    <tr>\n",
       "      <th>0</th>\n",
       "      <td>White House point man at Homeland Security sha...</td>\n",
       "      <td>/u/aresef</td>\n",
       "      <td>https://www.reddit.com/r/politics/comments/1iy...</td>\n",
       "      <td>2025-02-26T13:50:06+00:00</td>\n",
       "      <td>&lt;table&gt; &lt;tr&gt;&lt;td&gt; &lt;a href=\"https://www.reddit.c...</td>\n",
       "      <td>white house point man homeland security shared...</td>\n",
       "    </tr>\n",
       "    <tr>\n",
       "      <th>1</th>\n",
       "      <td>Luigi Mangione pleads with fans to stop sendin...</td>\n",
       "      <td>/u/Healthy_Block3036</td>\n",
       "      <td>https://www.reddit.com/r/politics/comments/1iy...</td>\n",
       "      <td>2025-02-26T13:48:58+00:00</td>\n",
       "      <td>&lt;table&gt; &lt;tr&gt;&lt;td&gt; &lt;a href=\"https://www.reddit.c...</td>\n",
       "      <td>luigi mangione pleads fans stop sending many p...</td>\n",
       "    </tr>\n",
       "    <tr>\n",
       "      <th>2</th>\n",
       "      <td>Trump Posts Deranged AI Video of His Vision fo...</td>\n",
       "      <td>/u/Boonzies</td>\n",
       "      <td>https://www.reddit.com/r/politics/comments/1iy...</td>\n",
       "      <td>2025-02-26T13:40:22+00:00</td>\n",
       "      <td>&lt;table&gt; &lt;tr&gt;&lt;td&gt; &lt;a href=\"https://www.reddit.c...</td>\n",
       "      <td>trump posts deranged ai video vision trump gaza</td>\n",
       "    </tr>\n",
       "    <tr>\n",
       "      <th>3</th>\n",
       "      <td>Lying James Comer Threatens to Have Sgt. of Ar...</td>\n",
       "      <td>/u/Expert-Explorer8894</td>\n",
       "      <td>https://www.reddit.com/r/politics/comments/1iy...</td>\n",
       "      <td>2025-02-26T13:39:08+00:00</td>\n",
       "      <td>&lt;table&gt; &lt;tr&gt;&lt;td&gt; &lt;a href=\"https://www.reddit.c...</td>\n",
       "      <td>lying james comer threatens sgt arms forcibly ...</td>\n",
       "    </tr>\n",
       "    <tr>\n",
       "      <th>4</th>\n",
       "      <td>GOP Wants Musk’s Starlink to Get a Cut of $42 ...</td>\n",
       "      <td>/u/bloomberg</td>\n",
       "      <td>https://www.reddit.com/r/politics/comments/1iy...</td>\n",
       "      <td>2025-02-26T13:32:58+00:00</td>\n",
       "      <td>&lt;table&gt; &lt;tr&gt;&lt;td&gt; &lt;a href=\"https://www.reddit.c...</td>\n",
       "      <td>gop wants musk starlink get cut billion biden ...</td>\n",
       "    </tr>\n",
       "  </tbody>\n",
       "</table>\n",
       "</div>"
      ],
      "text/plain": [
       "                                               title                  author  \\\n",
       "0  White House point man at Homeland Security sha...               /u/aresef   \n",
       "1  Luigi Mangione pleads with fans to stop sendin...    /u/Healthy_Block3036   \n",
       "2  Trump Posts Deranged AI Video of His Vision fo...             /u/Boonzies   \n",
       "3  Lying James Comer Threatens to Have Sgt. of Ar...  /u/Expert-Explorer8894   \n",
       "4  GOP Wants Musk’s Starlink to Get a Cut of $42 ...            /u/bloomberg   \n",
       "\n",
       "                                                link  \\\n",
       "0  https://www.reddit.com/r/politics/comments/1iy...   \n",
       "1  https://www.reddit.com/r/politics/comments/1iy...   \n",
       "2  https://www.reddit.com/r/politics/comments/1iy...   \n",
       "3  https://www.reddit.com/r/politics/comments/1iy...   \n",
       "4  https://www.reddit.com/r/politics/comments/1iy...   \n",
       "\n",
       "                   published  \\\n",
       "0  2025-02-26T13:50:06+00:00   \n",
       "1  2025-02-26T13:48:58+00:00   \n",
       "2  2025-02-26T13:40:22+00:00   \n",
       "3  2025-02-26T13:39:08+00:00   \n",
       "4  2025-02-26T13:32:58+00:00   \n",
       "\n",
       "                                             content  \\\n",
       "0  <table> <tr><td> <a href=\"https://www.reddit.c...   \n",
       "1  <table> <tr><td> <a href=\"https://www.reddit.c...   \n",
       "2  <table> <tr><td> <a href=\"https://www.reddit.c...   \n",
       "3  <table> <tr><td> <a href=\"https://www.reddit.c...   \n",
       "4  <table> <tr><td> <a href=\"https://www.reddit.c...   \n",
       "\n",
       "                                        cleaned_text  \n",
       "0  white house point man homeland security shared...  \n",
       "1  luigi mangione pleads fans stop sending many p...  \n",
       "2    trump posts deranged ai video vision trump gaza  \n",
       "3  lying james comer threatens sgt arms forcibly ...  \n",
       "4  gop wants musk starlink get cut billion biden ...  "
      ]
     },
     "execution_count": 9,
     "metadata": {},
     "output_type": "execute_result"
    }
   ],
   "source": [
    "import pandas as pd\n",
    "import numpy as np\n",
    "import re\n",
    "import nltk\n",
    "from nltk.corpus import stopwords\n",
    "from sklearn.feature_extraction.text import CountVectorizer\n",
    "from sklearn.model_selection import train_test_split\n",
    "\n",
    "# Download NLTK stopwords\n",
    "nltk.download('stopwords')\n",
    "\n",
    "def clean_text(text):\n",
    "    text = re.sub(r'@\\w+', '', text)  # Remove mentions\n",
    "    text = re.sub(r'http\\S+|www\\S+', '', text)  # Remove URLs\n",
    "    text = re.sub(r'[^a-zA-Z]', ' ', text)  # Remove non-alphabetic characters\n",
    "    text = text.lower()  # Convert to lowercase\n",
    "    text = ' '.join([word for word in text.split() if word not in stopwords.words('english')])  # Remove stopwords\n",
    "    return text\n",
    "\n",
    "# Load raw data\n",
    "raw_data_path = '../data/raw/social_media_data.csv'\n",
    "data = pd.read_csv(raw_data_path)\n",
    "\n",
    "# Preprocess the text data\n",
    "data['cleaned_text'] = data['title'].apply(clean_text)\n",
    "\n",
    "data.head()"
   ]
  },
  {
   "cell_type": "code",
   "execution_count": 10,
   "metadata": {},
   "outputs": [],
   "source": [
    "from textblob import TextBlob\n",
    "\n",
    "# Define sentiment mapping\n",
    "sentiment_mapping = {\n",
    "    \"positive\": 1,\n",
    "    \"neutral\": 0,\n",
    "    \"negative\": -1\n",
    "}\n",
    "\n",
    "# Perform sentiment analysis\n",
    "def get_sentiment(text):\n",
    "    analysis = TextBlob(text)\n",
    "    polarity = analysis.sentiment.polarity\n",
    "    if polarity > 0:\n",
    "        return sentiment_mapping[\"positive\"]\n",
    "    elif polarity == 0:\n",
    "        return sentiment_mapping[\"neutral\"]\n",
    "    else:\n",
    "        return sentiment_mapping[\"negative\"]"
   ]
  },
  {
   "cell_type": "code",
   "execution_count": 11,
   "metadata": {},
   "outputs": [],
   "source": [
    "data['sentiment'] = data['cleaned_text'].apply(get_sentiment)\n",
    "\n"
   ]
  },
  {
   "cell_type": "code",
   "execution_count": 12,
   "metadata": {},
   "outputs": [
    {
     "data": {
      "text/html": [
       "<div>\n",
       "<style scoped>\n",
       "    .dataframe tbody tr th:only-of-type {\n",
       "        vertical-align: middle;\n",
       "    }\n",
       "\n",
       "    .dataframe tbody tr th {\n",
       "        vertical-align: top;\n",
       "    }\n",
       "\n",
       "    .dataframe thead th {\n",
       "        text-align: right;\n",
       "    }\n",
       "</style>\n",
       "<table border=\"1\" class=\"dataframe\">\n",
       "  <thead>\n",
       "    <tr style=\"text-align: right;\">\n",
       "      <th></th>\n",
       "      <th>cleaned_text</th>\n",
       "      <th>sentiment</th>\n",
       "    </tr>\n",
       "  </thead>\n",
       "  <tbody>\n",
       "    <tr>\n",
       "      <th>0</th>\n",
       "      <td>white house point man homeland security shared...</td>\n",
       "      <td>0</td>\n",
       "    </tr>\n",
       "    <tr>\n",
       "      <th>1</th>\n",
       "      <td>luigi mangione pleads fans stop sending many p...</td>\n",
       "      <td>1</td>\n",
       "    </tr>\n",
       "    <tr>\n",
       "      <th>2</th>\n",
       "      <td>trump posts deranged ai video vision trump gaza</td>\n",
       "      <td>0</td>\n",
       "    </tr>\n",
       "    <tr>\n",
       "      <th>3</th>\n",
       "      <td>lying james comer threatens sgt arms forcibly ...</td>\n",
       "      <td>1</td>\n",
       "    </tr>\n",
       "    <tr>\n",
       "      <th>4</th>\n",
       "      <td>gop wants musk starlink get cut billion biden ...</td>\n",
       "      <td>1</td>\n",
       "    </tr>\n",
       "  </tbody>\n",
       "</table>\n",
       "</div>"
      ],
      "text/plain": [
       "                                        cleaned_text  sentiment\n",
       "0  white house point man homeland security shared...          0\n",
       "1  luigi mangione pleads fans stop sending many p...          1\n",
       "2    trump posts deranged ai video vision trump gaza          0\n",
       "3  lying james comer threatens sgt arms forcibly ...          1\n",
       "4  gop wants musk starlink get cut billion biden ...          1"
      ]
     },
     "execution_count": 12,
     "metadata": {},
     "output_type": "execute_result"
    }
   ],
   "source": [
    "\n",
    "cleaned_data=data.drop(['title', 'author', 'link', 'published','content'], axis = 1)\n",
    "\n",
    "cleaned_data.head()"
   ]
  },
  {
   "cell_type": "code",
   "execution_count": 13,
   "metadata": {},
   "outputs": [
    {
     "name": "stdout",
     "output_type": "stream",
     "text": [
      "Number of unique rows: 164\n"
     ]
    },
    {
     "data": {
      "text/html": [
       "<div>\n",
       "<style scoped>\n",
       "    .dataframe tbody tr th:only-of-type {\n",
       "        vertical-align: middle;\n",
       "    }\n",
       "\n",
       "    .dataframe tbody tr th {\n",
       "        vertical-align: top;\n",
       "    }\n",
       "\n",
       "    .dataframe thead th {\n",
       "        text-align: right;\n",
       "    }\n",
       "</style>\n",
       "<table border=\"1\" class=\"dataframe\">\n",
       "  <thead>\n",
       "    <tr style=\"text-align: right;\">\n",
       "      <th></th>\n",
       "      <th>cleaned_text</th>\n",
       "      <th>sentiment</th>\n",
       "    </tr>\n",
       "  </thead>\n",
       "  <tbody>\n",
       "    <tr>\n",
       "      <th>0</th>\n",
       "      <td>white house point man homeland security shared...</td>\n",
       "      <td>0</td>\n",
       "    </tr>\n",
       "    <tr>\n",
       "      <th>1</th>\n",
       "      <td>luigi mangione pleads fans stop sending many p...</td>\n",
       "      <td>1</td>\n",
       "    </tr>\n",
       "    <tr>\n",
       "      <th>2</th>\n",
       "      <td>trump posts deranged ai video vision trump gaza</td>\n",
       "      <td>0</td>\n",
       "    </tr>\n",
       "    <tr>\n",
       "      <th>3</th>\n",
       "      <td>lying james comer threatens sgt arms forcibly ...</td>\n",
       "      <td>1</td>\n",
       "    </tr>\n",
       "    <tr>\n",
       "      <th>4</th>\n",
       "      <td>gop wants musk starlink get cut billion biden ...</td>\n",
       "      <td>1</td>\n",
       "    </tr>\n",
       "  </tbody>\n",
       "</table>\n",
       "</div>"
      ],
      "text/plain": [
       "                                        cleaned_text  sentiment\n",
       "0  white house point man homeland security shared...          0\n",
       "1  luigi mangione pleads fans stop sending many p...          1\n",
       "2    trump posts deranged ai video vision trump gaza          0\n",
       "3  lying james comer threatens sgt arms forcibly ...          1\n",
       "4  gop wants musk starlink get cut billion biden ...          1"
      ]
     },
     "execution_count": 13,
     "metadata": {},
     "output_type": "execute_result"
    }
   ],
   "source": [
    "unique_rows = cleaned_data.drop_duplicates()\n",
    "print(f\"Number of unique rows: {unique_rows.shape[0]}\")\n",
    "unique_rows.head()"
   ]
  },
  {
   "cell_type": "code",
   "execution_count": 14,
   "metadata": {},
   "outputs": [
    {
     "name": "stdout",
     "output_type": "stream",
     "text": [
      "happy      580\n",
      "made       460\n",
      "ai         280\n",
      "new        240\n",
      "study      240\n",
      "daily      240\n",
      "posting    220\n",
      "trump      220\n",
      "updates    220\n",
      "two        200\n",
      "dtype: int64\n",
      "Shape of Bag of Words DataFrame: (3925, 1049)\n"
     ]
    }
   ],
   "source": [
    "from sklearn.feature_extraction.text import CountVectorizer\n",
    "\n",
    "# Initialize CountVectorizer\n",
    "vectorizer = CountVectorizer()\n",
    "\n",
    "# Fit and transform the cleaned text data\n",
    "X = vectorizer.fit_transform(cleaned_data['cleaned_text'])\n",
    "\n",
    "# Convert the result to a DataFrame\n",
    "bag_of_words_df = pd.DataFrame(X.toarray(), columns=vectorizer.get_feature_names_out())\n",
    "\n",
    "# Display the unique words and their counts\n",
    "unique_words = bag_of_words_df.sum(axis=0)\n",
    "print(unique_words.sort_values(ascending=False).head(10))  # Display top 10 most frequent words\n",
    "\n",
    "# Display the shape of the Bag of Words DataFrame\n",
    "print(f\"Shape of Bag of Words DataFrame: {bag_of_words_df.shape}\")"
   ]
  },
  {
   "cell_type": "code",
   "execution_count": 15,
   "metadata": {},
   "outputs": [
    {
     "name": "stdout",
     "output_type": "stream",
     "text": [
      "         sentiment\n",
      "count  3925.000000\n",
      "mean      0.342930\n",
      "std       0.722511\n",
      "min      -1.000000\n",
      "25%       0.000000\n",
      "50%       0.000000\n",
      "75%       1.000000\n",
      "max       1.000000\n"
     ]
    },
    {
     "data": {
      "image/png": "[encoded data removed]",
      "text/plain": [
       "<Figure size 640x480 with 1 Axes>"
      ]
     },
     "metadata": {},
     "output_type": "display_data"
    },
    {
     "data": {
      "image/png": "[encoded data removed]",
      "text/plain": [
       "<Figure size 640x480 with 1 Axes>"
      ]
     },
     "metadata": {},
     "output_type": "display_data"
    }
   ],
   "source": [
    "import seaborn as sns\n",
    "\n",
    "import matplotlib.pyplot as plt\n",
    "\n",
    "# Display basic statistics\n",
    "print(cleaned_data.describe())\n",
    "\n",
    "# Display the distribution of sentiments\n",
    "sns.countplot(x='sentiment', data=cleaned_data)\n",
    "plt.title('Sentiment Distribution')\n",
    "plt.xlabel('Sentiment')\n",
    "plt.ylabel('Count')\n",
    "plt.show()\n",
    "\n",
    "# Display the length of cleaned text\n",
    "cleaned_data['text_length'] = cleaned_data['cleaned_text'].apply(len)\n",
    "sns.histplot(cleaned_data['text_length'], bins=30, kde=True)\n",
    "plt.title('Distribution of Text Length')\n",
    "plt.xlabel('Text Length')\n",
    "plt.ylabel('Frequency')\n",
    "plt.show()\n",
    "\n",
    "\n",
    "\n"
   ]
  },
  {
   "cell_type": "code",
   "execution_count": 16,
   "metadata": {},
   "outputs": [
    {
     "name": "stdout",
     "output_type": "stream",
     "text": [
      "Data saved at: C:\\Users\\ankit\\Desktop\\LORU\\sentiment-analysis-app\\data\\processed\\processed_data.csv\n"
     ]
    }
   ],
   "source": [
    "import os\n",
    "\n",
    "# Define absolute path for data directory\n",
    "processed_data_path = r\"C:\\Users\\ankit\\Desktop\\LORU\\sentiment-analysis-app\\data\\processed\"\n",
    "\n",
    "\n",
    "file_path = os.path.join(processed_data_path, \"processed_data.csv\")\n",
    "\n",
    "# Ensure the directory exists\n",
    "os.makedirs(processed_data_path, exist_ok=True)\n",
    "\n",
    "# Save the DataFrame if it exists\n",
    "if \"data\" in locals():\n",
    "    cleaned_data.to_csv(file_path, index=False, mode=\"w\")\n",
    "    print(f\"Data saved at: {file_path}\")\n",
    "else:\n",
    "    print(\"No data to save.\")\n"
   ]
  },
  {
   "cell_type": "code",
   "execution_count": null,
   "metadata": {},
   "outputs": [],
   "source": []
  }
 ],
 "metadata": {
  "kernelspec": {
   "display_name": "base",
   "language": "python",
   "name": "python3"
  },
  "language_info": {
   "codemirror_mode": {
    "name": "ipython",
    "version": 3
   },
   "file_extension": ".py",
   "mimetype": "text/x-python",
   "name": "python",
   "nbconvert_exporter": "python",
   "pygments_lexer": "ipython3",
   "version": "3.12.7"
  }
 },
 "nbformat": 4,
 "nbformat_minor": 4
}
